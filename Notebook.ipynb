{
 "cells": [
  {
   "cell_type": "code",
   "execution_count": 1,
   "id": "1cb6e7d2",
   "metadata": {},
   "outputs": [],
   "source": [
    "import torch\n",
    "import torch.nn as nn\n",
    "import torch.optim as optim\n",
    "import torch.nn.functional as F\n",
    "from torch.utils.data import Dataset, DataLoader, random_split\n",
    "import torchvision.transforms as transforms\n",
    "import torchvision.models as models\n",
    "from sklearn.svm import SVC\n",
    "from sklearn.metrics import confusion_matrix, accuracy_score, classification_report\n",
    "import numpy as np\n",
    "import matplotlib.pyplot as plt\n",
    "import seaborn as sns\n",
    "from PIL import Image\n",
    "import os\n",
    "from collections import defaultdict\n",
    "import random\n",
    "from sklearn.preprocessing import StandardScaler"
   ]
  },
  {
   "cell_type": "code",
   "execution_count": 2,
   "id": "b97abbf7",
   "metadata": {},
   "outputs": [],
   "source": [
    "from LoadData import SceneDataset\n",
    "from Models import ShallowCNN, ImprovedCNN, AlexNetTransfer, AlexNetFeatureExtractor, DAG_SVM\n",
    "from ModelUtilities import train_model, evaluate_model, extract_features\n",
    "from Utilities import plot_training_history, plot_confusion_matrix"
   ]
  },
  {
   "cell_type": "code",
   "execution_count": 3,
   "id": "09373b86",
   "metadata": {},
   "outputs": [],
   "source": [
    "torch.manual_seed(0)\n",
    "np.random.seed(0)\n",
    "random.seed(0)"
   ]
  },
  {
   "cell_type": "code",
   "execution_count": 4,
   "id": "db33fba4",
   "metadata": {},
   "outputs": [
    {
     "name": "stdout",
     "output_type": "stream",
     "text": [
      "Using device: cpu\n"
     ]
    }
   ],
   "source": [
    "device = torch.device('cuda' if torch.cuda.is_available() else 'cpu')\n",
    "print(f'Using device: {device}')\n",
    "\n",
    "# Data transforms\n",
    "# Basic transform for Task 1 (anisotropic rescaling)\n",
    "basic_transform = transforms.Compose([\n",
    "    transforms.Resize((64, 64)),  # Anisotropic rescaling\n",
    "    transforms.Lambda(lambda img: torch.from_numpy(np.array(img)).permute(2, 0, 1).float())\n",
    "    #transforms.Normalize(mean=[0.5, 0.5, 0.5], std=[0.5, 0.5, 0.5])\n",
    "])\n",
    "\n",
    "# Augmented transform for Task 2\n",
    "augmented_transform = transforms.Compose([\n",
    "    transforms.Resize((64, 64)),\n",
    "    transforms.RandomHorizontalFlip(p=0.5),  # Left-right reflection\n",
    "    transforms.Lambda(lambda img: torch.from_numpy(np.array(img)).permute(2, 0, 1).float())\n",
    "    #transforms.Normalize(mean=[0.5, 0.5, 0.5], std=[0.5, 0.5, 0.5])\n",
    "])\n",
    "\n",
    "\n",
    "imagenet_transform = transforms.Compose([\n",
    "    transforms.Resize((224, 224)),\n",
    "    transforms.ToTensor(),\n",
    "    transforms.Normalize(mean=[0.485, 0.456, 0.406], std=[0.229, 0.224, 0.225])\n",
    "])"
   ]
  },
  {
   "cell_type": "code",
   "execution_count": null,
   "id": "f044c1ef",
   "metadata": {},
   "outputs": [],
   "source": [
    "train_dataset = SceneDataset('data/train', transform=basic_transform)\n",
    "test_dataset = SceneDataset('data/test', transform=basic_transform)"
   ]
  },
  {
   "cell_type": "code",
   "execution_count": null,
   "id": "61d45226",
   "metadata": {},
   "outputs": [],
   "source": [
    "train_size = int(0.85 * len(train_dataset))\n",
    "val_size = len(train_dataset) - train_size\n",
    "train_subset, val_subset = random_split(train_dataset, [train_size, val_size])\n",
    "\n",
    "# Create data loaders\n",
    "train_loader = DataLoader(train_subset, batch_size=32, shuffle=True)\n",
    "val_loader = DataLoader(val_subset, batch_size=32, shuffle=False)\n",
    "test_loader = DataLoader(test_dataset, batch_size=32, shuffle=False)"
   ]
  },
  {
   "cell_type": "code",
   "execution_count": null,
   "id": "574e9b20",
   "metadata": {},
   "outputs": [],
   "source": [
    "shallow_model = ShallowCNN(num_classes=15)\n",
    "history = train_model(shallow_model, train_loader, val_loader, num_epochs=12, learning_rate=1e-2, \n",
    "                device='cpu', patience=10, lr_min=5e-3)\n",
    "plot_training_history(history)"
   ]
  },
  {
   "cell_type": "code",
   "execution_count": null,
   "id": "19258a41",
   "metadata": {},
   "outputs": [],
   "source": [
    "accuracy_shallow, cm_shallow, all_predictions_shallow, all_labels_shallow = evaluate_model(shallow_model, test_loader, device)"
   ]
  },
  {
   "cell_type": "code",
   "execution_count": null,
   "id": "3ad0c74a",
   "metadata": {},
   "outputs": [],
   "source": [
    "accuracy_shallow"
   ]
  },
  {
   "cell_type": "code",
   "execution_count": null,
   "id": "0215e834",
   "metadata": {},
   "outputs": [],
   "source": [
    "plot_confusion_matrix(cm_shallow, np.unique(np.array(all_labels_shallow)))"
   ]
  },
  {
   "cell_type": "code",
   "execution_count": null,
   "id": "36bb4805",
   "metadata": {},
   "outputs": [],
   "source": [
    "train_dataset_improved = SceneDataset('data/train', transform=augmented_transform)\n",
    "test_dataset_improved = SceneDataset('data/test', transform=augmented_transform)"
   ]
  },
  {
   "cell_type": "code",
   "execution_count": null,
   "id": "2e6be057",
   "metadata": {},
   "outputs": [],
   "source": [
    "train_size_improved = int(0.85 * len(train_dataset_improved))\n",
    "val_size_improved = len(train_dataset_improved) - train_size_improved\n",
    "train_subset_improved, val_subset_improved = random_split(train_dataset_improved, [train_size_improved, val_size_improved])\n",
    "\n",
    "# Create data loaders\n",
    "train_loader_improved = DataLoader(train_subset_improved, batch_size=32, shuffle=True)\n",
    "val_loader_improved = DataLoader(val_subset_improved, batch_size=32, shuffle=False)\n",
    "test_loader_improved = DataLoader(test_dataset_improved, batch_size=32, shuffle=False)"
   ]
  },
  {
   "cell_type": "code",
   "execution_count": null,
   "id": "8007993c",
   "metadata": {},
   "outputs": [],
   "source": [
    "improved_model = ImprovedCNN(num_classes=15)\n",
    "history = train_model(improved_model, train_loader_improved, val_loader_improved, num_epochs=12, learning_rate=5e-3, \n",
    "                device='cpu', patience=10, lr_min=5e-4)\n",
    "plot_training_history(history)"
   ]
  },
  {
   "cell_type": "code",
   "execution_count": null,
   "id": "0d6a99b6",
   "metadata": {},
   "outputs": [],
   "source": [
    "accuracy_improved, cm_improved, all_predictions_improved, all_labels_improved = evaluate_model(improved_model, test_loader_improved, device)"
   ]
  },
  {
   "cell_type": "code",
   "execution_count": null,
   "id": "810581fb",
   "metadata": {},
   "outputs": [],
   "source": [
    "accuracy_improved"
   ]
  },
  {
   "cell_type": "code",
   "execution_count": null,
   "id": "bc8fcdcf",
   "metadata": {},
   "outputs": [],
   "source": [
    "plot_confusion_matrix(cm_improved, np.unique(np.array(all_labels_improved)))"
   ]
  },
  {
   "cell_type": "code",
   "execution_count": 5,
   "id": "9e22d283",
   "metadata": {},
   "outputs": [],
   "source": [
    "train_dataset_imn = SceneDataset('data/train', transform=imagenet_transform)\n",
    "test_dataset_imn  = SceneDataset('data/test', transform=imagenet_transform)"
   ]
  },
  {
   "cell_type": "code",
   "execution_count": 6,
   "id": "ed4329ae",
   "metadata": {},
   "outputs": [],
   "source": [
    "train_size_imn = int(0.85 * len(train_dataset_imn))\n",
    "val_size_imn = len(train_dataset_imn) - train_size_imn\n",
    "train_subset_imn, val_subset_imn = random_split(train_dataset_imn, [train_size_imn, val_size_imn])\n",
    "\n",
    "# Create data loaders\n",
    "train_loader_imn = DataLoader(train_subset_imn, batch_size=32, shuffle=True)\n",
    "val_loader_imn = DataLoader(val_subset_imn, batch_size=32, shuffle=False)\n",
    "test_loader_imn = DataLoader(test_dataset_imn, batch_size=32, shuffle=False)"
   ]
  },
  {
   "cell_type": "code",
   "execution_count": null,
   "id": "cf23a3cc",
   "metadata": {},
   "outputs": [],
   "source": [
    "# Initialize model\n",
    "model_imn = AlexNetTransfer(num_classes=15, freeze_features=True)\n",
    "model_imn = model_imn.to(device)"
   ]
  },
  {
   "cell_type": "code",
   "execution_count": null,
   "id": "43fbd8e0",
   "metadata": {},
   "outputs": [],
   "source": [
    "history = train_model(model_imn, train_loader_imn, val_loader_imn, num_epochs=12, learning_rate=5e-3, \n",
    "                device='cpu', patience=10, lr_min=5e-4)\n",
    "plot_training_history(history)"
   ]
  },
  {
   "cell_type": "code",
   "execution_count": null,
   "id": "400c4bac",
   "metadata": {},
   "outputs": [],
   "source": [
    "accuracy_imn, cm_imn, all_predictions_imn, all_labels_imn = evaluate_model(model_imn, test_loader_imn, device)"
   ]
  },
  {
   "cell_type": "code",
   "execution_count": null,
   "id": "c53d37bf",
   "metadata": {},
   "outputs": [],
   "source": [
    "accuracy_imn"
   ]
  },
  {
   "cell_type": "code",
   "execution_count": null,
   "id": "edd95eb0",
   "metadata": {},
   "outputs": [],
   "source": [
    "plot_confusion_matrix(cm_imn, np.unique(np.array(all_labels_imn)))"
   ]
  },
  {
   "cell_type": "code",
   "execution_count": null,
   "id": "e88f53b3",
   "metadata": {},
   "outputs": [],
   "source": []
  },
  {
   "cell_type": "code",
   "execution_count": 7,
   "id": "5709f7ee",
   "metadata": {},
   "outputs": [
    {
     "name": "stderr",
     "output_type": "stream",
     "text": [
      "c:\\Users\\matte\\myenv_RL\\Lib\\site-packages\\torchvision\\models\\_utils.py:208: UserWarning: The parameter 'pretrained' is deprecated since 0.13 and may be removed in the future, please use 'weights' instead.\n",
      "  warnings.warn(\n",
      "c:\\Users\\matte\\myenv_RL\\Lib\\site-packages\\torchvision\\models\\_utils.py:223: UserWarning: Arguments other than a weight enum or `None` for 'weights' are deprecated since 0.13 and may be removed in the future. The current behavior is equivalent to passing `weights=AlexNet_Weights.IMAGENET1K_V1`. You can also use `weights=AlexNet_Weights.DEFAULT` to get the most up-to-date weights.\n",
      "  warnings.warn(msg)\n"
     ]
    }
   ],
   "source": [
    "feature_extractor = AlexNetFeatureExtractor(layer_name='fc2')  # Using fc2 layer (4096 features)\n",
    "feature_extractor = feature_extractor.to(device)"
   ]
  },
  {
   "cell_type": "code",
   "execution_count": 8,
   "id": "b7624dd8",
   "metadata": {},
   "outputs": [
    {
     "name": "stdout",
     "output_type": "stream",
     "text": [
      "Extracting features from 40 batches...\n",
      "Processed batch 0/40\n",
      "Extracting features from 8 batches...\n",
      "Processed batch 0/8\n",
      "Extracting features from 94 batches...\n",
      "Processed batch 0/94\n",
      "Processed batch 50/94\n"
     ]
    }
   ],
   "source": [
    "train_features, train_labels = extract_features(feature_extractor, train_loader_imn, device)\n",
    "\n",
    "val_features, val_labels = extract_features(feature_extractor, val_loader_imn, device)\n",
    "\n",
    "test_features, test_labels = extract_features(feature_extractor, test_loader_imn, device)\n"
   ]
  },
  {
   "cell_type": "code",
   "execution_count": 9,
   "id": "8ff95443",
   "metadata": {},
   "outputs": [],
   "source": [
    "scaler = StandardScaler()\n",
    "train_features_scaled = scaler.fit_transform(train_features)\n",
    "val_features_scaled = scaler.transform(val_features)\n",
    "test_features_scaled = scaler.transform(test_features)"
   ]
  },
  {
   "cell_type": "code",
   "execution_count": 10,
   "id": "d0e309d3",
   "metadata": {},
   "outputs": [
    {
     "name": "stdout",
     "output_type": "stream",
     "text": [
      "Training 105 binary SVM classifiers...\n",
      "Training classifier 1/105: Class 0 vs Class 1\n",
      "Training classifier 2/105: Class 0 vs Class 2\n",
      "Training classifier 3/105: Class 0 vs Class 3\n",
      "Training classifier 4/105: Class 0 vs Class 4\n",
      "Training classifier 5/105: Class 0 vs Class 5\n",
      "Training classifier 6/105: Class 0 vs Class 6\n",
      "Training classifier 7/105: Class 0 vs Class 7\n",
      "Training classifier 8/105: Class 0 vs Class 8\n",
      "Training classifier 9/105: Class 0 vs Class 9\n",
      "Training classifier 10/105: Class 0 vs Class 10\n",
      "Training classifier 11/105: Class 0 vs Class 11\n",
      "Training classifier 12/105: Class 0 vs Class 12\n",
      "Training classifier 13/105: Class 0 vs Class 13\n",
      "Training classifier 14/105: Class 0 vs Class 14\n",
      "Training classifier 15/105: Class 1 vs Class 2\n",
      "Training classifier 16/105: Class 1 vs Class 3\n",
      "Training classifier 17/105: Class 1 vs Class 4\n",
      "Training classifier 18/105: Class 1 vs Class 5\n",
      "Training classifier 19/105: Class 1 vs Class 6\n",
      "Training classifier 20/105: Class 1 vs Class 7\n",
      "Training classifier 21/105: Class 1 vs Class 8\n",
      "Training classifier 22/105: Class 1 vs Class 9\n",
      "Training classifier 23/105: Class 1 vs Class 10\n",
      "Training classifier 24/105: Class 1 vs Class 11\n",
      "Training classifier 25/105: Class 1 vs Class 12\n",
      "Training classifier 26/105: Class 1 vs Class 13\n",
      "Training classifier 27/105: Class 1 vs Class 14\n",
      "Training classifier 28/105: Class 2 vs Class 3\n",
      "Training classifier 29/105: Class 2 vs Class 4\n",
      "Training classifier 30/105: Class 2 vs Class 5\n",
      "Training classifier 31/105: Class 2 vs Class 6\n",
      "Training classifier 32/105: Class 2 vs Class 7\n",
      "Training classifier 33/105: Class 2 vs Class 8\n",
      "Training classifier 34/105: Class 2 vs Class 9\n",
      "Training classifier 35/105: Class 2 vs Class 10\n",
      "Training classifier 36/105: Class 2 vs Class 11\n",
      "Training classifier 37/105: Class 2 vs Class 12\n",
      "Training classifier 38/105: Class 2 vs Class 13\n",
      "Training classifier 39/105: Class 2 vs Class 14\n",
      "Training classifier 40/105: Class 3 vs Class 4\n",
      "Training classifier 41/105: Class 3 vs Class 5\n",
      "Training classifier 42/105: Class 3 vs Class 6\n",
      "Training classifier 43/105: Class 3 vs Class 7\n",
      "Training classifier 44/105: Class 3 vs Class 8\n",
      "Training classifier 45/105: Class 3 vs Class 9\n",
      "Training classifier 46/105: Class 3 vs Class 10\n",
      "Training classifier 47/105: Class 3 vs Class 11\n",
      "Training classifier 48/105: Class 3 vs Class 12\n",
      "Training classifier 49/105: Class 3 vs Class 13\n",
      "Training classifier 50/105: Class 3 vs Class 14\n",
      "Training classifier 51/105: Class 4 vs Class 5\n",
      "Training classifier 52/105: Class 4 vs Class 6\n",
      "Training classifier 53/105: Class 4 vs Class 7\n",
      "Training classifier 54/105: Class 4 vs Class 8\n",
      "Training classifier 55/105: Class 4 vs Class 9\n",
      "Training classifier 56/105: Class 4 vs Class 10\n",
      "Training classifier 57/105: Class 4 vs Class 11\n",
      "Training classifier 58/105: Class 4 vs Class 12\n",
      "Training classifier 59/105: Class 4 vs Class 13\n",
      "Training classifier 60/105: Class 4 vs Class 14\n",
      "Training classifier 61/105: Class 5 vs Class 6\n",
      "Training classifier 62/105: Class 5 vs Class 7\n",
      "Training classifier 63/105: Class 5 vs Class 8\n",
      "Training classifier 64/105: Class 5 vs Class 9\n",
      "Training classifier 65/105: Class 5 vs Class 10\n",
      "Training classifier 66/105: Class 5 vs Class 11\n",
      "Training classifier 67/105: Class 5 vs Class 12\n",
      "Training classifier 68/105: Class 5 vs Class 13\n",
      "Training classifier 69/105: Class 5 vs Class 14\n",
      "Training classifier 70/105: Class 6 vs Class 7\n",
      "Training classifier 71/105: Class 6 vs Class 8\n",
      "Training classifier 72/105: Class 6 vs Class 9\n",
      "Training classifier 73/105: Class 6 vs Class 10\n",
      "Training classifier 74/105: Class 6 vs Class 11\n",
      "Training classifier 75/105: Class 6 vs Class 12\n",
      "Training classifier 76/105: Class 6 vs Class 13\n",
      "Training classifier 77/105: Class 6 vs Class 14\n",
      "Training classifier 78/105: Class 7 vs Class 8\n",
      "Training classifier 79/105: Class 7 vs Class 9\n",
      "Training classifier 80/105: Class 7 vs Class 10\n",
      "Training classifier 81/105: Class 7 vs Class 11\n",
      "Training classifier 82/105: Class 7 vs Class 12\n",
      "Training classifier 83/105: Class 7 vs Class 13\n",
      "Training classifier 84/105: Class 7 vs Class 14\n",
      "Training classifier 85/105: Class 8 vs Class 9\n",
      "Training classifier 86/105: Class 8 vs Class 10\n",
      "Training classifier 87/105: Class 8 vs Class 11\n",
      "Training classifier 88/105: Class 8 vs Class 12\n",
      "Training classifier 89/105: Class 8 vs Class 13\n",
      "Training classifier 90/105: Class 8 vs Class 14\n",
      "Training classifier 91/105: Class 9 vs Class 10\n",
      "Training classifier 92/105: Class 9 vs Class 11\n",
      "Training classifier 93/105: Class 9 vs Class 12\n",
      "Training classifier 94/105: Class 9 vs Class 13\n",
      "Training classifier 95/105: Class 9 vs Class 14\n",
      "Training classifier 96/105: Class 10 vs Class 11\n",
      "Training classifier 97/105: Class 10 vs Class 12\n",
      "Training classifier 98/105: Class 10 vs Class 13\n",
      "Training classifier 99/105: Class 10 vs Class 14\n",
      "Training classifier 100/105: Class 11 vs Class 12\n",
      "Training classifier 101/105: Class 11 vs Class 13\n",
      "Training classifier 102/105: Class 11 vs Class 14\n",
      "Training classifier 103/105: Class 12 vs Class 13\n",
      "Training classifier 104/105: Class 12 vs Class 14\n",
      "Training classifier 105/105: Class 13 vs Class 14\n"
     ]
    }
   ],
   "source": [
    "dag_svm = DAG_SVM(kernel='rbf')\n",
    "dag_svm.fit(train_features_scaled, train_labels)"
   ]
  },
  {
   "cell_type": "code",
   "execution_count": 12,
   "id": "600e2b3f",
   "metadata": {},
   "outputs": [],
   "source": [
    "dag_test_predictions = dag_svm.predict(test_features_scaled)\n",
    "\n",
    "dag_test_acc = accuracy_score(test_labels, dag_test_predictions)\n"
   ]
  },
  {
   "cell_type": "code",
   "execution_count": 13,
   "id": "a39b1948",
   "metadata": {},
   "outputs": [
    {
     "data": {
      "text/plain": [
       "0.8036850921273032"
      ]
     },
     "execution_count": 13,
     "metadata": {},
     "output_type": "execute_result"
    }
   ],
   "source": [
    "dag_test_acc"
   ]
  }
 ],
 "metadata": {
  "kernelspec": {
   "display_name": "Python (env for RL)",
   "language": "python",
   "name": "myenv_rl"
  },
  "language_info": {
   "codemirror_mode": {
    "name": "ipython",
    "version": 3
   },
   "file_extension": ".py",
   "mimetype": "text/x-python",
   "name": "python",
   "nbconvert_exporter": "python",
   "pygments_lexer": "ipython3",
   "version": "3.11.4"
  }
 },
 "nbformat": 4,
 "nbformat_minor": 5
}
